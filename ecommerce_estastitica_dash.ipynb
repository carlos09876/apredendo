{
  "nbformat": 4,
  "nbformat_minor": 0,
  "metadata": {
    "colab": {
      "provenance": [],
      "authorship_tag": "ABX9TyPIFAL8NWDHKLE2gHpREBQc",
      "include_colab_link": true
    },
    "kernelspec": {
      "name": "python3",
      "display_name": "Python 3"
    },
    "language_info": {
      "name": "python"
    }
  },
  "cells": [
    {
      "cell_type": "markdown",
      "metadata": {
        "id": "view-in-github",
        "colab_type": "text"
      },
      "source": [
        "<a href=\"https://colab.research.google.com/github/carlos09876/apredendo/blob/main/ecommerce_estastitica_dash.ipynb\" target=\"_parent\"><img src=\"https://colab.research.google.com/assets/colab-badge.svg\" alt=\"Open In Colab\"/></a>"
      ]
    },
    {
      "cell_type": "code",
      "execution_count": 11,
      "metadata": {
        "colab": {
          "base_uri": "https://localhost:8080/",
          "height": 672
        },
        "id": "BClZcrGZw691",
        "outputId": "5c3044ec-836a-4e8c-d76d-78c6ef5b0a60"
      },
      "outputs": [
        {
          "output_type": "display_data",
          "data": {
            "text/plain": [
              "<IPython.core.display.Javascript object>"
            ],
            "application/javascript": [
              "(async (port, path, width, height, cache, element) => {\n",
              "    if (!google.colab.kernel.accessAllowed && !cache) {\n",
              "      return;\n",
              "    }\n",
              "    element.appendChild(document.createTextNode(''));\n",
              "    const url = await google.colab.kernel.proxyPort(port, {cache});\n",
              "    const iframe = document.createElement('iframe');\n",
              "    iframe.src = new URL(path, url).toString();\n",
              "    iframe.height = height;\n",
              "    iframe.width = width;\n",
              "    iframe.style.border = 0;\n",
              "    iframe.allow = [\n",
              "        'accelerometer',\n",
              "        'autoplay',\n",
              "        'camera',\n",
              "        'clipboard-read',\n",
              "        'clipboard-write',\n",
              "        'gyroscope',\n",
              "        'magnetometer',\n",
              "        'microphone',\n",
              "        'serial',\n",
              "        'usb',\n",
              "        'xr-spatial-tracking',\n",
              "    ].join('; ');\n",
              "    element.appendChild(iframe);\n",
              "  })(8050, \"/\", \"100%\", 650, false, window.element)"
            ]
          },
          "metadata": {}
        }
      ],
      "source": [
        "import dash\n",
        "from dash import dcc, html\n",
        "import pandas as pd\n",
        "import plotly.express as px\n",
        "from dash.dependencies import Input, Output\n",
        "import os\n",
        "\n",
        "# Verificar se o arquivo existe\n",
        "file_path = '/mnt/data/ecommerce_estatistica.csv'\n",
        "if os.path.exists(file_path):\n",
        "    df = pd.read_csv(file_path)\n",
        "else:\n",
        "    df = pd.DataFrame(columns=['Material', 'Qtd_Vendidos'])\n",
        "\n",
        "# Inicializar a aplicação Dash\n",
        "app = dash.Dash(__name__)\n",
        "\n",
        "# Layout da aplicação\n",
        "app.layout = html.Div([\n",
        "    html.H1(\"Dashboard de E-commerce\"),\n",
        "\n",
        "    dcc.Dropdown(\n",
        "        id='material-dropdown',\n",
        "        options=[{'label': mat, 'value': mat} for mat in df['Material'].unique()],\n",
        "        multi=True,\n",
        "        placeholder=\"Selecione o material\"\n",
        "    ),\n",
        "\n",
        "    dcc.Graph(id='grafico-vendas')\n",
        "])\n",
        "\n",
        "# Callback para atualizar o gráfico\n",
        "@app.callback(\n",
        "    Output('grafico-vendas', 'figure'),\n",
        "    Input('material-dropdown', 'value')\n",
        ")\n",
        "def update_graph(selected_materials):\n",
        "    if not selected_materials:\n",
        "        filtered_df = df\n",
        "    else:\n",
        "        filtered_df = df[df['Material'].isin(selected_materials)]\n",
        "\n",
        "    fig = px.bar(filtered_df, x='Material', y='Qtd_Vendidos', title='Quantidade Vendida por Material')\n",
        "    return fig\n",
        "\n",
        "# Rodar a aplicação\n",
        "if __name__ == '__main__':\n",
        "    app.run_server(debug=True)\n"
      ]
    },
    {
      "cell_type": "markdown",
      "source": [],
      "metadata": {
        "id": "VX8s-aaHD4CH"
      }
    }
  ]
}